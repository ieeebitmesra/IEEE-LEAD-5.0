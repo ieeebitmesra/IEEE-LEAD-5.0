{
 "cells": [
  {
   "metadata": {},
   "cell_type": "markdown",
   "source": "Importing all necessary libraries",
   "id": "f24855b0162d4b25"
  },
  {
   "metadata": {
    "ExecuteTime": {
     "end_time": "2024-12-01T18:05:08.428565Z",
     "start_time": "2024-12-01T18:05:08.396475Z"
    }
   },
   "cell_type": "code",
   "source": [
    "import numpy as np\n",
    "from tensorflow.keras.datasets import mnist\n",
    "import matplotlib.pyplot as plt"
   ],
   "id": "a1d95b9aa3bc116b",
   "outputs": [],
   "execution_count": 151
  },
  {
   "metadata": {},
   "cell_type": "markdown",
   "source": "Loading and preprocessing the dataset",
   "id": "ea01d49592605599"
  },
  {
   "metadata": {
    "ExecuteTime": {
     "end_time": "2024-12-01T18:05:10.234314Z",
     "start_time": "2024-12-01T18:05:10.209900Z"
    }
   },
   "cell_type": "code",
   "source": [
    "def load_data():\n",
    "    (X_train, Y_train), (X_test, Y_test) = mnist.load_data()\n",
    "\n",
    "    X_train = X_train.reshape(X_train.shape[0], -1).T / 255.0\n",
    "    X_test = X_test.reshape(X_test.shape[0], -1).T / 255.0\n",
    "    \n",
    "    Y_train = one_hot(Y_train)\n",
    "    Y_test = one_hot(Y_test)\n",
    "\n",
    "    return X_train, Y_train, X_test, Y_test"
   ],
   "id": "342d1be34b18acac",
   "outputs": [],
   "execution_count": 152
  },
  {
   "metadata": {},
   "cell_type": "markdown",
   "source": [
    "\n",
    "One-hot encoding labels"
   ],
   "id": "632b938d70a4b077"
  },
  {
   "metadata": {
    "ExecuteTime": {
     "end_time": "2024-12-01T18:05:11.976884Z",
     "start_time": "2024-12-01T18:05:11.970728Z"
    }
   },
   "cell_type": "code",
   "source": [
    "def one_hot(labels, num_classes=10):\n",
    "    one_hot = np.zeros((num_classes, labels.size))\n",
    "    one_hot[labels, np.arange(labels.size)] = 1\n",
    "    return one_hot"
   ],
   "id": "58508473ab5403e5",
   "outputs": [],
   "execution_count": 153
  },
  {
   "metadata": {},
   "cell_type": "markdown",
   "source": [
    "\n",
    "Initializing weights and biases"
   ],
   "id": "7fe27944de037d6f"
  },
  {
   "metadata": {
    "ExecuteTime": {
     "end_time": "2024-12-01T18:05:13.469464Z",
     "start_time": "2024-12-01T18:05:13.461650Z"
    }
   },
   "cell_type": "code",
   "source": [
    "def init(a=784, b=128, c=10):\n",
    "    np.random.seed(42)\n",
    "    w1 = np.random.randn(b, a) * 0.01\n",
    "    b1 = np.zeros((b, 1))\n",
    "    w2 = np.random.randn(c, b) * 0.01\n",
    "    b2 = np.zeros((c, 1))\n",
    "    return w1, b1, w2, b2"
   ],
   "id": "b6d07edae0d47f3e",
   "outputs": [],
   "execution_count": 154
  },
  {
   "metadata": {},
   "cell_type": "markdown",
   "source": [
    "\n",
    "Defining the activation function"
   ],
   "id": "1d9b29814b30de65"
  },
  {
   "metadata": {
    "ExecuteTime": {
     "end_time": "2024-12-01T18:05:15.187053Z",
     "start_time": "2024-12-01T18:05:15.179892Z"
    }
   },
   "cell_type": "code",
   "source": [
    "def sigmoid(x):\n",
    "    return 1 / (1 + np.exp(-x))\n",
    "\n",
    "def d_sigmoid(x):\n",
    "    return x * (1 - x)"
   ],
   "id": "1f0fad434d2c1d82",
   "outputs": [],
   "execution_count": 155
  },
  {
   "metadata": {},
   "cell_type": "markdown",
   "source": [
    "\n",
    "Forward propagation"
   ],
   "id": "200c2b39c020c42e"
  },
  {
   "metadata": {
    "ExecuteTime": {
     "end_time": "2024-12-01T18:05:16.570258Z",
     "start_time": "2024-12-01T18:05:16.561588Z"
    }
   },
   "cell_type": "code",
   "source": [
    "def forprop(X, w1, b1, w2, b2):\n",
    "    hi = np.dot(w1, X) + b1\n",
    "    ho = sigmoid(hi)\n",
    "    oi = np.dot(w2, ho) + b2\n",
    "    oo = sigmoid(oi)\n",
    "    return hi, ho, oi, oo"
   ],
   "id": "4cb787ce1c3a9036",
   "outputs": [],
   "execution_count": 156
  },
  {
   "metadata": {},
   "cell_type": "markdown",
   "source": "Backward propagation",
   "id": "e59c619dde6589ea"
  },
  {
   "metadata": {
    "ExecuteTime": {
     "end_time": "2024-12-01T18:05:18.009478Z",
     "start_time": "2024-12-01T18:05:17.998977Z"
    }
   },
   "cell_type": "code",
   "source": [
    "def backprop(X, Y, hi, ho, oi, oo, w1, w2, b1, b2, learn=0.01):\n",
    "    m = X.shape[1] \n",
    "\n",
    "    eo = oo - Y\n",
    "    dw2 = (1 / m) * np.dot(eo, ho.T)\n",
    "    db2 = (1 / m) * np.sum(eo, axis=1, keepdims=True)\n",
    "\n",
    "    eh = np.dot(w2.T, eo)\n",
    "    dh = eh * d_sigmoid(ho)\n",
    "    dw1 = (1 / m) * np.dot(dh, X.T)\n",
    "    db1 = (1 / m) * np.sum(dh, axis=1, keepdims=True)\n",
    "\n",
    "    w1 -= learn * dw1\n",
    "    b1 -= learn * db1\n",
    "    w2 -= learn * dw2\n",
    "    b2 -= learn * db2\n",
    "\n",
    "    return w1, b1, w2, b2"
   ],
   "id": "befd206531c633c5",
   "outputs": [],
   "execution_count": 157
  },
  {
   "metadata": {},
   "cell_type": "markdown",
   "source": [
    "\n",
    "Training"
   ],
   "id": "9070440f6aa5f4ab"
  },
  {
   "metadata": {
    "ExecuteTime": {
     "end_time": "2024-12-01T18:05:19.596686Z",
     "start_time": "2024-12-01T18:05:19.583351Z"
    }
   },
   "cell_type": "code",
   "source": [
    "def train(X_train, Y_train, w1, b1, w2, b2, epochs=10, batch_size=64, learn=0.01):\n",
    "    for epoch in range(epochs):\n",
    "        combo = np.random.permutation(X_train.shape[1])\n",
    "        X_shuffled = X_train[:, combo]\n",
    "        Y_shuffled = Y_train[:, combo]\n",
    "\n",
    "        for i in range(0, X_train.shape[1], batch_size):\n",
    "            X_batch = X_shuffled[:, i:i + batch_size]\n",
    "            Y_batch = Y_shuffled[:, i:i + batch_size]\n",
    "\n",
    "            hi, ho, oi, oo = forprop(X_batch, w1, b1, w2, b2)\n",
    "            w1, b1, w2, b2 = backprop(X_batch, Y_batch, hi, ho, oi, oo, w1, w2, b1, b2, learn)\n",
    "\n",
    "        if epoch % 10 == 0: \n",
    "            hi, ho, oi, oo = forprop(X_train, w1, b1, w2, b2)\n",
    "            loss = -np.mean(Y_train * np.log(oo + 1e-8))  # Cross-entropy loss\n",
    "            print(f\"Epoch {epoch}, Loss: {loss}\")\n",
    "\n",
    "    return w1, b1, w2, b2"
   ],
   "id": "5678c1cbfa612d5b",
   "outputs": [],
   "execution_count": 158
  },
  {
   "metadata": {},
   "cell_type": "markdown",
   "source": [
    "\n",
    "Evaluating the model"
   ],
   "id": "3b410f4fc1ea04f3"
  },
  {
   "metadata": {
    "ExecuteTime": {
     "end_time": "2024-12-01T18:05:21.236974Z",
     "start_time": "2024-12-01T18:05:21.225560Z"
    }
   },
   "cell_type": "code",
   "source": [
    "def acc(X_test, Y_test, w1, b1, w2, b2):\n",
    "    hi, ho, oi, oo = forprop(X_test, w1, b1, w2, b2)\n",
    "    predictions = np.argmax(oo, axis=0)\n",
    "    labels = np.argmax(Y_test, axis=0)\n",
    "    accuracy = np.mean(predictions == labels) * 100\n",
    "    print(f\"Test Accuracy: {accuracy}%\")\n",
    "    \n",
    "    return accuracy"
   ],
   "id": "59fd8883e3891c22",
   "outputs": [],
   "execution_count": 159
  },
  {
   "metadata": {},
   "cell_type": "markdown",
   "source": [
    "\n",
    "Visualizing incorrect predictions"
   ],
   "id": "78b411fa71ca6b97"
  },
  {
   "metadata": {
    "ExecuteTime": {
     "end_time": "2024-12-01T18:05:22.781527Z",
     "start_time": "2024-12-01T18:05:22.772017Z"
    }
   },
   "cell_type": "code",
   "source": [
    "def incorrect(X, Y, w1, b1, w2, b2):\n",
    "    hi, ho, oi, oo = forprop(X, w1, b1, w2, b2)\n",
    "    predictions = np.argmax(oo, axis=0)\n",
    "    labels = np.argmax(Y, axis=0)\n",
    "    misclassified = np.where(predictions != labels)[0]\n",
    "\n",
    "    plt.figure(figsize=(10, 5))\n",
    "    for i, idx in enumerate(misclassified[:10]):\n",
    "        plt.subplot(2, 5, i + 1)\n",
    "        plt.imshow(X[:, idx].reshape(28, 28), cmap='gray')\n",
    "        plt.title(f\"Pred: {predictions[idx]}, True: {labels[idx]}\")\n",
    "        plt.axis('off')\n",
    "    plt.show()"
   ],
   "id": "5d397c61aaa2c14f",
   "outputs": [],
   "execution_count": 160
  },
  {
   "metadata": {},
   "cell_type": "markdown",
   "source": [
    "\n",
    "Visualizing correct predictions"
   ],
   "id": "62e5f73b83e970b9"
  },
  {
   "metadata": {
    "ExecuteTime": {
     "end_time": "2024-12-01T18:05:24.558823Z",
     "start_time": "2024-12-01T18:05:24.546967Z"
    }
   },
   "cell_type": "code",
   "source": [
    "def correct(X, Y, w1, b1, w2, b2):\n",
    "    hi, ho, oi, oo = forprop(X, w1, b1, w2, b2)\n",
    "    predictions = np.argmax(oo, axis=0)\n",
    "    labels = np.argmax(Y, axis=0)\n",
    "    classified = np.where(predictions == labels)[0]\n",
    "\n",
    "    plt.figure(figsize=(10, 5))\n",
    "    for i, idx in enumerate(classified[:10]):\n",
    "        plt.subplot(2, 5, i + 1)\n",
    "        plt.imshow(X[:, idx].reshape(28, 28), cmap='gray')\n",
    "        plt.title(f\"Pred: {predictions[idx]}, True: {labels[idx]}\")\n",
    "        plt.axis('off')\n",
    "    plt.show()\n"
   ],
   "id": "66220f733d066cb5",
   "outputs": [],
   "execution_count": 161
  },
  {
   "metadata": {},
   "cell_type": "markdown",
   "source": "Loading and executing",
   "id": "c39f95602102cd57"
  },
  {
   "metadata": {
    "ExecuteTime": {
     "end_time": "2024-12-01T18:05:26.270628Z",
     "start_time": "2024-12-01T18:05:26.250827Z"
    }
   },
   "cell_type": "code",
   "source": [
    "a=784\n",
    "b=128 \n",
    "c=10\n",
    "epochs=500\n",
    "batch_size=64\n",
    "learn=0.1"
   ],
   "id": "8d53bb226e52a93c",
   "outputs": [],
   "execution_count": 162
  },
  {
   "metadata": {
    "ExecuteTime": {
     "end_time": "2024-12-01T18:05:53.281124Z",
     "start_time": "2024-12-01T18:05:27.256278Z"
    }
   },
   "cell_type": "code",
   "source": [
    "X_train, Y_train, X_test, Y_test = load_data()\n",
    "w1, b1, w2, b2 = init()\n",
    "w1, b1, w2, b2 = train(X_train, Y_train, w1, b1, w2, b2, epochs=500, batch_size=64, learn=0.1)\n",
    "acc(X_test, Y_test, w1, b1, w2, b2)\n",
    "correct(X_test, Y_test, w1, b1, w2, b2)\n",
    "incorrect(X_test, Y_test, w1, b1, w2, b2)\n"
   ],
   "id": "ac078d5386be8c9e",
   "outputs": [
    {
     "name": "stdout",
     "output_type": "stream",
     "text": [
      "Epoch 0, Loss: 0.06336037318226236\n",
      "Epoch 10, Loss: 0.021301990032514977\n",
      "Epoch 20, Loss: 0.014404007298159617\n"
     ]
    },
    {
     "ename": "KeyboardInterrupt",
     "evalue": "",
     "output_type": "error",
     "traceback": [
      "\u001B[1;31m---------------------------------------------------------------------------\u001B[0m",
      "\u001B[1;31mKeyboardInterrupt\u001B[0m                         Traceback (most recent call last)",
      "Cell \u001B[1;32mIn[163], line 3\u001B[0m\n\u001B[0;32m      1\u001B[0m X_train, Y_train, X_test, Y_test \u001B[38;5;241m=\u001B[39m load_data()\n\u001B[0;32m      2\u001B[0m w1, b1, w2, b2 \u001B[38;5;241m=\u001B[39m init()\n\u001B[1;32m----> 3\u001B[0m w1, b1, w2, b2 \u001B[38;5;241m=\u001B[39m train(X_train, Y_train, w1, b1, w2, b2, epochs\u001B[38;5;241m=\u001B[39m\u001B[38;5;241m500\u001B[39m, batch_size\u001B[38;5;241m=\u001B[39m\u001B[38;5;241m64\u001B[39m, learn\u001B[38;5;241m=\u001B[39m\u001B[38;5;241m0.1\u001B[39m)\n\u001B[0;32m      4\u001B[0m acc(X_test, Y_test, w1, b1, w2, b2)\n\u001B[0;32m      5\u001B[0m correct(X_test, Y_test, w1, b1, w2, b2)\n",
      "Cell \u001B[1;32mIn[158], line 7\u001B[0m, in \u001B[0;36mtrain\u001B[1;34m(X_train, Y_train, w1, b1, w2, b2, epochs, batch_size, learn)\u001B[0m\n\u001B[0;32m      4\u001B[0m X_shuffled \u001B[38;5;241m=\u001B[39m X_train[:, combo]\n\u001B[0;32m      5\u001B[0m Y_shuffled \u001B[38;5;241m=\u001B[39m Y_train[:, combo]\n\u001B[1;32m----> 7\u001B[0m \u001B[38;5;28;01mfor\u001B[39;00m i \u001B[38;5;129;01min\u001B[39;00m \u001B[38;5;28mrange\u001B[39m(\u001B[38;5;241m0\u001B[39m, X_train\u001B[38;5;241m.\u001B[39mshape[\u001B[38;5;241m1\u001B[39m], batch_size):\n\u001B[0;32m      8\u001B[0m     X_batch \u001B[38;5;241m=\u001B[39m X_shuffled[:, i:i \u001B[38;5;241m+\u001B[39m batch_size]\n\u001B[0;32m      9\u001B[0m     Y_batch \u001B[38;5;241m=\u001B[39m Y_shuffled[:, i:i \u001B[38;5;241m+\u001B[39m batch_size]\n",
      "\u001B[1;31mKeyboardInterrupt\u001B[0m: "
     ]
    }
   ],
   "execution_count": 163
  },
  {
   "metadata": {},
   "cell_type": "code",
   "outputs": [],
   "execution_count": null,
   "source": "",
   "id": "6e2120ff70621e1f"
  }
 ],
 "metadata": {
  "kernelspec": {
   "display_name": "Python 3",
   "language": "python",
   "name": "python3"
  },
  "language_info": {
   "codemirror_mode": {
    "name": "ipython",
    "version": 2
   },
   "file_extension": ".py",
   "mimetype": "text/x-python",
   "name": "python",
   "nbconvert_exporter": "python",
   "pygments_lexer": "ipython2",
   "version": "2.7.6"
  }
 },
 "nbformat": 4,
 "nbformat_minor": 5
}
