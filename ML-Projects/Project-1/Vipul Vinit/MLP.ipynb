{
 "cells": [
  {
   "cell_type": "markdown",
   "id": "17786586",
   "metadata": {},
   "source": [
    "Implementing MLP from scratch using only numpy "
   ]
  },
  {
   "cell_type": "code",
   "execution_count": 127,
   "id": "06429267",
   "metadata": {},
   "outputs": [],
   "source": [
    "import numpy as np"
   ]
  },
  {
   "cell_type": "markdown",
   "id": "7e095f95",
   "metadata": {},
   "source": [
    "Using sigmoid activation function for hidden layers as well as output layer"
   ]
  },
  {
   "cell_type": "code",
   "execution_count": 128,
   "id": "8443239a",
   "metadata": {},
   "outputs": [],
   "source": [
    "def sigmoid(x):\n",
    "    return 1 / (1 + np.exp(-x))\n",
    "\n",
    "def d_sigmoid(x):\n",
    "    return x * (1 - x)"
   ]
  },
  {
   "cell_type": "markdown",
   "id": "8da6df6f",
   "metadata": {},
   "source": [
    "Initializing weights and biases for network layers"
   ]
  },
  {
   "cell_type": "code",
   "execution_count": 129,
   "id": "282543a1",
   "metadata": {},
   "outputs": [],
   "source": [
    "def init(a, b, c):\n",
    "    w1 = np.random.randn(a, b)\n",
    "    w2 = np.random.randn(b, c)\n",
    "    b1 = np.zeros((1, b))\n",
    "    b2 = np.zeros((1, c))\n",
    "    return w1, w2, b1, b2\n"
   ]
  },
  {
   "cell_type": "markdown",
   "id": "a4ea9859",
   "metadata": {},
   "source": [
    "Using Forward Propagation to calculate forward pass through the network"
   ]
  },
  {
   "cell_type": "code",
   "execution_count": 130,
   "id": "e7087b28",
   "metadata": {},
   "outputs": [],
   "source": [
    "def forprop(X, w1, w2, b1, b2):\n",
    "    hi = np.dot(X, w1) + b1\n",
    "    ho = sigmoid(hi)\n",
    "    oi = np.dot(ho, w2) + b2\n",
    "    oo = sigmoid(oi)\n",
    "    return ho, oo"
   ]
  },
  {
   "cell_type": "markdown",
   "id": "97667d2d",
   "metadata": {},
   "source": [
    "Using Backward Propagation update the weights and biases based on error "
   ]
  },
  {
   "cell_type": "code",
   "execution_count": 131,
   "id": "8583d659",
   "metadata": {},
   "outputs": [],
   "source": [
    "def backprop(X, y, ho, oo, w1, w2, b1, b2, learn):\n",
    "    eo = y - oo\n",
    "    do = eo * d_sigmoid(oo)\n",
    "    \n",
    "    eh = do.dot(w2.T)\n",
    "    dh = eh * d_sigmoid(ho)\n",
    "    \n",
    "    w2 += ho.T.dot(do) * learn\n",
    "    b2 += np.sum(do, axis=0, keepdims=True) * learn\n",
    "    w1 += X.T.dot(dh) * learn\n",
    "    b1 += np.sum(dh, axis=0, keepdims=True) * learn\n",
    "    \n",
    "    return w1, w2, b1, b2"
   ]
  },
  {
   "cell_type": "markdown",
   "id": "a4eedad6",
   "metadata": {},
   "source": [
    "Calculating the accuracy of the model"
   ]
  },
  {
   "cell_type": "code",
   "execution_count": 132,
   "id": "331605f3",
   "metadata": {},
   "outputs": [],
   "source": [
    "def accuracy(y_true, y_pred):\n",
    "    y_pred = np.round(y_pred)  \n",
    "    correct = np.sum(y_true == y_pred)\n",
    "    total = len(y_true)\n",
    "    return correct / total"
   ]
  },
  {
   "cell_type": "markdown",
   "id": "45a5999a",
   "metadata": {},
   "source": [
    "Training the model"
   ]
  },
  {
   "cell_type": "code",
   "execution_count": 133,
   "id": "43548efa",
   "metadata": {},
   "outputs": [],
   "source": [
    "def train(X, y, a, b, c, epochs, learn):\n",
    "    w1, w2, b1, b2 = init(a, b, c)\n",
    "    \n",
    "    for epoch in range(epochs):\n",
    "        ho, oo = forprop(X, w1, w2, b1, b2)\n",
    "        w1, w2, b1, b2 = backprop(X, y, ho, oo, w1, w2, b1, b2, learn)\n",
    "        \n",
    "        if epoch % 500 == 0:\n",
    "            loss = np.mean(np.square(y - oo))\n",
    "            ac = accuracy(y, oo)\n",
    "            print(f'Epoch {epoch}, Loss: {loss}, Accuracy: {ac}')\n",
    "    \n",
    "    return w1, w2, b1, b2"
   ]
  },
  {
   "cell_type": "markdown",
   "id": "42db52bc",
   "metadata": {},
   "source": [
    "prediction function to use the trained MLP"
   ]
  },
  {
   "cell_type": "code",
   "execution_count": 134,
   "id": "6febf992",
   "metadata": {},
   "outputs": [],
   "source": [
    "def predict(X, w1, w2, b1, b2):\n",
    "    oo = forprop(X, w1, w2, b1, b2)\n",
    "    return oo"
   ]
  },
  {
   "cell_type": "code",
   "execution_count": 135,
   "id": "5d547949",
   "metadata": {
    "scrolled": true
   },
   "outputs": [
    {
     "name": "stdout",
     "output_type": "stream",
     "text": [
      "Epoch 0, Loss: 0.2379480832326875, Accuracy: 0.4\n",
      "Epoch 500, Loss: 0.016821443233178707, Accuracy: 1.0\n",
      "Epoch 1000, Loss: 0.005641027076264269, Accuracy: 1.0\n",
      "Epoch 1500, Loss: 0.0031563565337759344, Accuracy: 1.0\n",
      "Epoch 2000, Loss: 0.00213558827636414, Accuracy: 1.0\n",
      "Epoch 2500, Loss: 0.0015935961786270134, Accuracy: 1.0\n",
      "Epoch 3000, Loss: 0.001261914292208051, Accuracy: 1.0\n",
      "Epoch 3500, Loss: 0.0010397567336040677, Accuracy: 1.0\n",
      "Epoch 4000, Loss: 0.0008813652711611656, Accuracy: 1.0\n",
      "Epoch 4500, Loss: 0.000763147158767252, Accuracy: 1.0\n",
      "Epoch 5000, Loss: 0.0006717726118914734, Accuracy: 1.0\n",
      "Epoch 5500, Loss: 0.0005991713241643166, Accuracy: 1.0\n",
      "Epoch 6000, Loss: 0.000540185456882517, Accuracy: 1.0\n",
      "Epoch 6500, Loss: 0.0004913717580853911, Accuracy: 1.0\n",
      "Epoch 7000, Loss: 0.00045034771555905773, Accuracy: 1.0\n",
      "Epoch 7500, Loss: 0.0004154145662734498, Accuracy: 1.0\n",
      "Epoch 8000, Loss: 0.00038532979531447195, Accuracy: 1.0\n",
      "Epoch 8500, Loss: 0.0003591644501639124, Accuracy: 1.0\n",
      "Epoch 9000, Loss: 0.000336210643168833, Accuracy: 1.0\n",
      "Epoch 9500, Loss: 0.0003159198461475919, Accuracy: 1.0\n",
      "Predictions: (array([[0.07143097, 0.92480171],\n",
      "       [0.89803877, 0.27672233],\n",
      "       [0.87518591, 0.14666242],\n",
      "       [0.07143097, 0.92480171],\n",
      "       [0.05770782, 0.84673351]]), array([[0.01457735],\n",
      "       [0.97770004],\n",
      "       [0.9851508 ],\n",
      "       [0.01457735],\n",
      "       [0.018615  ]]))\n"
     ]
    }
   ],
   "source": [
    "# Input data(5 samples,each with 2 features)\n",
    "X = np.random.randint(2, size=(5, 2))\n",
    "\n",
    "# Output data(5 samples,each with 1 target value)\n",
    "y = np.random.randint(2, size=(5, 1))\n",
    "\n",
    "# Parameters\n",
    "input_size = 2\n",
    "hidden_size = 2\n",
    "output_size = 1\n",
    "epochs = 10000\n",
    "learn = 0.1\n",
    "\n",
    "# Train the MLP\n",
    "w1, w2, b1, b2 = train(X, y, input_size, hidden_size, output_size, epochs, learn)\n",
    "\n",
    "# Predict\n",
    "predictions = predict(X, w1, w2, b1, b2)\n",
    "print('Predictions:', predictions)\n",
    "\n"
   ]
  },
  {
   "cell_type": "code",
   "execution_count": null,
   "id": "5b8593f8",
   "metadata": {},
   "outputs": [],
   "source": []
  }
 ],
 "metadata": {
  "kernelspec": {
   "display_name": "Python 3 (ipykernel)",
   "language": "python",
   "name": "python3"
  },
  "language_info": {
   "codemirror_mode": {
    "name": "ipython",
    "version": 3
   },
   "file_extension": ".py",
   "mimetype": "text/x-python",
   "name": "python",
   "nbconvert_exporter": "python",
   "pygments_lexer": "ipython3",
   "version": "3.11.7"
  }
 },
 "nbformat": 4,
 "nbformat_minor": 5
}
